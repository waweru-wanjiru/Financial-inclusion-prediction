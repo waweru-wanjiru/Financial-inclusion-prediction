{
  "nbformat": 4,
  "nbformat_minor": 0,
  "metadata": {
    "colab": {
      "name": "Financial Inclusion in Africa.ipynb",
      "provenance": [],
      "collapsed_sections": [],
      "toc_visible": true
    },
    "kernelspec": {
      "name": "python3",
      "display_name": "Python 3"
    }
  },
  "cells": [
    {
      "cell_type": "markdown",
      "metadata": {
        "id": "DftNWidMclXG"
      },
      "source": [
        "## **Project Overview**"
      ]
    },
    {
      "cell_type": "markdown",
      "metadata": {
        "id": "IEjpEX7qcwaa"
      },
      "source": [
        "Financial Inclusion remains one of the main obstacles to economic and human development in Africa. For example, across Kenya, Rwanda, Tanzania, and Uganda only 9.1 million adults (or 13.9% of the adult population) have access to or use a commercial bank account.\r\n",
        "\r\n",
        "Traditionally, access to bank accounts has been regarded as an indicator of financial inclusion. Despite the proliferation of mobile money in Africa, and the growth of innovative fintech solutions, banks still play a pivotal role in facilitating access to financial services. Access to bank accounts enable households to save and facilitate payments while also helping businesses build up their credit-worthiness and improve their access to other finance services. Therefore, access to bank accounts is an essential contributor to long-term economic growth."
      ]
    },
    {
      "cell_type": "markdown",
      "metadata": {
        "id": "lMzhw3Xtczvn"
      },
      "source": [
        "## **Project Objective**"
      ]
    },
    {
      "cell_type": "markdown",
      "metadata": {
        "id": "hWNLDII5c4e5"
      },
      "source": [
        "The objective of this project is to create a machine learning model to predict which individuals are most likely to have or use a bank account. The models and solutions developed can provide an indication of the state of financial inclusion in Kenya, Rwanda, Tanzania and Uganda, while providing insights into some of the key demographic factors that might drive individuals’ financial outcomes."
      ]
    },
    {
      "cell_type": "markdown",
      "metadata": {
        "id": "SutJa-DgdR0Q"
      },
      "source": [
        "## **Data Understanding**"
      ]
    },
    {
      "cell_type": "markdown",
      "metadata": {
        "id": "TfLBNFxBdWNg"
      },
      "source": [
        "Financal Inclusion Survey Data\r\n",
        "\r\n",
        "The main dataset contains demographic information and what financial services are used by approximately 33,610 individuals across East Africa. This data was extracted from various Finscope surveys ranging from 2016 to 2018, and more information about these surveys can be found here:\r\n",
        "\r\n",
        "1. FinAccess Kenya 2018\r\n",
        "\r\n",
        "2. Finscope Rwanda 2016\r\n",
        "\r\n",
        "3. Finscope Tanzania 2017\r\n",
        "\r\n",
        "4. Finscope Uganda 2018\r\n",
        "\r\n",
        "The data have been split between training and test sets. The test set contains all information about each individual except for whether the respondent has a bank account or not.\r\n",
        "\r\n",
        "Your goal is to accurately predict the likelihood that an individual has a bank account or not, i.e. Yes = 1, No = 0."
      ]
    },
    {
      "cell_type": "code",
      "metadata": {
        "id": "o60A2ee2cXF0"
      },
      "source": [
        "### import libraries\r\n",
        "import pandas as pd\r\n",
        "import numpy as np\r\n",
        "import matplotlib.pyplot as plt\r\n",
        "import seaborn as sns\r\n",
        "import warnings\r\n",
        "warnings.filterwarnings('ignore')"
      ],
      "execution_count": 1,
      "outputs": []
    },
    {
      "cell_type": "code",
      "metadata": {
        "id": "rWzxWxCEgHUK"
      },
      "source": [
        "### import datasets\r\n",
        "train=pd.read_csv('/content/Train_v2.csv')"
      ],
      "execution_count": 2,
      "outputs": []
    },
    {
      "cell_type": "code",
      "metadata": {
        "colab": {
          "base_uri": "https://localhost:8080/",
          "height": 326
        },
        "id": "XG-JeSrzhxQz",
        "outputId": "58449431-623a-4631-cb51-2ef8414c9372"
      },
      "source": [
        "### glimpse the train data\r\n",
        "train.head()"
      ],
      "execution_count": 3,
      "outputs": [
        {
          "output_type": "execute_result",
          "data": {
            "text/html": [
              "<div>\n",
              "<style scoped>\n",
              "    .dataframe tbody tr th:only-of-type {\n",
              "        vertical-align: middle;\n",
              "    }\n",
              "\n",
              "    .dataframe tbody tr th {\n",
              "        vertical-align: top;\n",
              "    }\n",
              "\n",
              "    .dataframe thead th {\n",
              "        text-align: right;\n",
              "    }\n",
              "</style>\n",
              "<table border=\"1\" class=\"dataframe\">\n",
              "  <thead>\n",
              "    <tr style=\"text-align: right;\">\n",
              "      <th></th>\n",
              "      <th>country</th>\n",
              "      <th>year</th>\n",
              "      <th>uniqueid</th>\n",
              "      <th>bank_account</th>\n",
              "      <th>location_type</th>\n",
              "      <th>cellphone_access</th>\n",
              "      <th>household_size</th>\n",
              "      <th>age_of_respondent</th>\n",
              "      <th>gender_of_respondent</th>\n",
              "      <th>relationship_with_head</th>\n",
              "      <th>marital_status</th>\n",
              "      <th>education_level</th>\n",
              "      <th>job_type</th>\n",
              "    </tr>\n",
              "  </thead>\n",
              "  <tbody>\n",
              "    <tr>\n",
              "      <th>0</th>\n",
              "      <td>Kenya</td>\n",
              "      <td>2018</td>\n",
              "      <td>uniqueid_1</td>\n",
              "      <td>Yes</td>\n",
              "      <td>Rural</td>\n",
              "      <td>Yes</td>\n",
              "      <td>3</td>\n",
              "      <td>24</td>\n",
              "      <td>Female</td>\n",
              "      <td>Spouse</td>\n",
              "      <td>Married/Living together</td>\n",
              "      <td>Secondary education</td>\n",
              "      <td>Self employed</td>\n",
              "    </tr>\n",
              "    <tr>\n",
              "      <th>1</th>\n",
              "      <td>Kenya</td>\n",
              "      <td>2018</td>\n",
              "      <td>uniqueid_2</td>\n",
              "      <td>No</td>\n",
              "      <td>Rural</td>\n",
              "      <td>No</td>\n",
              "      <td>5</td>\n",
              "      <td>70</td>\n",
              "      <td>Female</td>\n",
              "      <td>Head of Household</td>\n",
              "      <td>Widowed</td>\n",
              "      <td>No formal education</td>\n",
              "      <td>Government Dependent</td>\n",
              "    </tr>\n",
              "    <tr>\n",
              "      <th>2</th>\n",
              "      <td>Kenya</td>\n",
              "      <td>2018</td>\n",
              "      <td>uniqueid_3</td>\n",
              "      <td>Yes</td>\n",
              "      <td>Urban</td>\n",
              "      <td>Yes</td>\n",
              "      <td>5</td>\n",
              "      <td>26</td>\n",
              "      <td>Male</td>\n",
              "      <td>Other relative</td>\n",
              "      <td>Single/Never Married</td>\n",
              "      <td>Vocational/Specialised training</td>\n",
              "      <td>Self employed</td>\n",
              "    </tr>\n",
              "    <tr>\n",
              "      <th>3</th>\n",
              "      <td>Kenya</td>\n",
              "      <td>2018</td>\n",
              "      <td>uniqueid_4</td>\n",
              "      <td>No</td>\n",
              "      <td>Rural</td>\n",
              "      <td>Yes</td>\n",
              "      <td>5</td>\n",
              "      <td>34</td>\n",
              "      <td>Female</td>\n",
              "      <td>Head of Household</td>\n",
              "      <td>Married/Living together</td>\n",
              "      <td>Primary education</td>\n",
              "      <td>Formally employed Private</td>\n",
              "    </tr>\n",
              "    <tr>\n",
              "      <th>4</th>\n",
              "      <td>Kenya</td>\n",
              "      <td>2018</td>\n",
              "      <td>uniqueid_5</td>\n",
              "      <td>No</td>\n",
              "      <td>Urban</td>\n",
              "      <td>No</td>\n",
              "      <td>8</td>\n",
              "      <td>26</td>\n",
              "      <td>Male</td>\n",
              "      <td>Child</td>\n",
              "      <td>Single/Never Married</td>\n",
              "      <td>Primary education</td>\n",
              "      <td>Informally employed</td>\n",
              "    </tr>\n",
              "  </tbody>\n",
              "</table>\n",
              "</div>"
            ],
            "text/plain": [
              "  country  year  ...                  education_level                   job_type\n",
              "0   Kenya  2018  ...              Secondary education              Self employed\n",
              "1   Kenya  2018  ...              No formal education       Government Dependent\n",
              "2   Kenya  2018  ...  Vocational/Specialised training              Self employed\n",
              "3   Kenya  2018  ...                Primary education  Formally employed Private\n",
              "4   Kenya  2018  ...                Primary education        Informally employed\n",
              "\n",
              "[5 rows x 13 columns]"
            ]
          },
          "metadata": {
            "tags": []
          },
          "execution_count": 3
        }
      ]
    },
    {
      "cell_type": "code",
      "metadata": {
        "colab": {
          "base_uri": "https://localhost:8080/"
        },
        "id": "IIxHO3V_mr42",
        "outputId": "824d4854-9b70-4ceb-b9a0-b057ed604ca1"
      },
      "source": [
        "##  the shape of the data\r\n",
        "train.shape"
      ],
      "execution_count": 5,
      "outputs": [
        {
          "output_type": "execute_result",
          "data": {
            "text/plain": [
              "(23524, 13)"
            ]
          },
          "metadata": {
            "tags": []
          },
          "execution_count": 5
        }
      ]
    },
    {
      "cell_type": "code",
      "metadata": {
        "colab": {
          "base_uri": "https://localhost:8080/"
        },
        "id": "y2RqpSiUnM1Q",
        "outputId": "c2759d8e-99b6-488c-bf93-9b7e2d8b5bd2"
      },
      "source": [
        "### the data type\r\n",
        "train.info()"
      ],
      "execution_count": 6,
      "outputs": [
        {
          "output_type": "stream",
          "text": [
            "<class 'pandas.core.frame.DataFrame'>\n",
            "RangeIndex: 23524 entries, 0 to 23523\n",
            "Data columns (total 13 columns):\n",
            " #   Column                  Non-Null Count  Dtype \n",
            "---  ------                  --------------  ----- \n",
            " 0   country                 23524 non-null  object\n",
            " 1   year                    23524 non-null  int64 \n",
            " 2   uniqueid                23524 non-null  object\n",
            " 3   bank_account            23524 non-null  object\n",
            " 4   location_type           23524 non-null  object\n",
            " 5   cellphone_access        23524 non-null  object\n",
            " 6   household_size          23524 non-null  int64 \n",
            " 7   age_of_respondent       23524 non-null  int64 \n",
            " 8   gender_of_respondent    23524 non-null  object\n",
            " 9   relationship_with_head  23524 non-null  object\n",
            " 10  marital_status          23524 non-null  object\n",
            " 11  education_level         23524 non-null  object\n",
            " 12  job_type                23524 non-null  object\n",
            "dtypes: int64(3), object(10)\n",
            "memory usage: 2.3+ MB\n"
          ],
          "name": "stdout"
        }
      ]
    },
    {
      "cell_type": "markdown",
      "metadata": {
        "id": "87dqdKbKnWLM"
      },
      "source": [
        "One cannot notice that our data is perfect and have no null values "
      ]
    },
    {
      "cell_type": "markdown",
      "metadata": {
        "id": "D2-IPiq7nkWW"
      },
      "source": [
        "## Data Cleaning and manipulation"
      ]
    },
    {
      "cell_type": "code",
      "metadata": {
        "colab": {
          "base_uri": "https://localhost:8080/"
        },
        "id": "9T-SWi7Qnqkt",
        "outputId": "523e7610-8288-4bef-b364-7e89e9c8476e"
      },
      "source": [
        "### checking for duplicates\r\n",
        "train.duplicated().any()"
      ],
      "execution_count": 7,
      "outputs": [
        {
          "output_type": "execute_result",
          "data": {
            "text/plain": [
              "False"
            ]
          },
          "metadata": {
            "tags": []
          },
          "execution_count": 7
        }
      ]
    },
    {
      "cell_type": "code",
      "metadata": {
        "colab": {
          "base_uri": "https://localhost:8080/"
        },
        "id": "j1T9OaO-pSyx",
        "outputId": "411e124a-a6aa-4147-ddf3-b525e369096d"
      },
      "source": [
        "### checking for missing values\r\n",
        "train.isnull().sum()"
      ],
      "execution_count": 8,
      "outputs": [
        {
          "output_type": "execute_result",
          "data": {
            "text/plain": [
              "country                   0\n",
              "year                      0\n",
              "uniqueid                  0\n",
              "bank_account              0\n",
              "location_type             0\n",
              "cellphone_access          0\n",
              "household_size            0\n",
              "age_of_respondent         0\n",
              "gender_of_respondent      0\n",
              "relationship_with_head    0\n",
              "marital_status            0\n",
              "education_level           0\n",
              "job_type                  0\n",
              "dtype: int64"
            ]
          },
          "metadata": {
            "tags": []
          },
          "execution_count": 8
        }
      ]
    },
    {
      "cell_type": "code",
      "metadata": {
        "colab": {
          "base_uri": "https://localhost:8080/",
          "height": 297
        },
        "id": "dIhXpPOipyTH",
        "outputId": "b45c87d5-0baf-40dc-fc1b-32d173d84b8a"
      },
      "source": [
        "### check for outliers\r\n",
        "sns.boxplot(x='household_size',data=train)"
      ],
      "execution_count": 9,
      "outputs": [
        {
          "output_type": "execute_result",
          "data": {
            "text/plain": [
              "<matplotlib.axes._subplots.AxesSubplot at 0x7ff3834a8198>"
            ]
          },
          "metadata": {
            "tags": []
          },
          "execution_count": 9
        },
        {
          "output_type": "display_data",
          "data": {
            "image/png": "[encoded data removed]",
            "text/plain": [
              "<Figure size 432x288 with 1 Axes>"
            ]
          },
          "metadata": {
            "tags": [],
            "needs_background": "light"
          }
        }
      ]
    },
    {
      "cell_type": "code",
      "metadata": {
        "colab": {
          "base_uri": "https://localhost:8080/",
          "height": 297
        },
        "id": "6lWmG_8t7BQw",
        "outputId": "bdcb5c42-bda8-412e-c6e1-b6a88cbd6987"
      },
      "source": [
        "sns.boxplot(x='age_of_respondent',data=train)"
      ],
      "execution_count": 10,
      "outputs": [
        {
          "output_type": "execute_result",
          "data": {
            "text/plain": [
              "<matplotlib.axes._subplots.AxesSubplot at 0x7ff3833ea2e8>"
            ]
          },
          "metadata": {
            "tags": []
          },
          "execution_count": 10
        },
        {
          "output_type": "display_data",
          "data": {
            "image/png": "[encoded data removed]",
            "text/plain": [
              "<Figure size 432x288 with 1 Axes>"
            ]
          },
          "metadata": {
            "tags": [],
            "needs_background": "light"
          }
        }
      ]
    },
    {
      "cell_type": "code",
      "metadata": {
        "colab": {
          "base_uri": "https://localhost:8080/"
        },
        "id": "YjBGBcEy7_p4",
        "outputId": "6cb7452f-deb6-4d4b-9a58-270c9f30f80f"
      },
      "source": [
        "#### checking the outliers\r\n",
        "Q1=train.quantile(q=0.25)\r\n",
        "Q3=train.quantile(q=0.75)\r\n",
        "IQR=Q3-Q1\r\n",
        "print(IQR)"
      ],
      "execution_count": 11,
      "outputs": [
        {
          "output_type": "stream",
          "text": [
            "year                  2.0\n",
            "household_size        3.0\n",
            "age_of_respondent    23.0\n",
            "dtype: float64\n"
          ],
          "name": "stdout"
        }
      ]
    },
    {
      "cell_type": "code",
      "metadata": {
        "colab": {
          "base_uri": "https://localhost:8080/"
        },
        "id": "2Vm9SUwk8jn2",
        "outputId": "d73ea7dc-77b8-49dd-d727-3b2a94475bda"
      },
      "source": [
        "### removing outliers\r\n",
        "train=train[~((train < (Q1-1.5*IQR))|(train > (Q3+1.5 *IQR))).any(axis=1)]\r\n",
        "train.shape"
      ],
      "execution_count": 12,
      "outputs": [
        {
          "output_type": "execute_result",
          "data": {
            "text/plain": [
              "(22902, 13)"
            ]
          },
          "metadata": {
            "tags": []
          },
          "execution_count": 12
        }
      ]
    },
    {
      "cell_type": "code",
      "metadata": {
        "colab": {
          "base_uri": "https://localhost:8080/"
        },
        "id": "2s2Lr8o_ArFc",
        "outputId": "3e4116c3-9964-4b8b-8da9-cc7690a4e1bc"
      },
      "source": [
        "#### checking for anormalies\r\n",
        "for col in train.select_dtypes([np.object]):\r\n",
        "  print(train[col].unique())\r\n",
        "  print('---------------------------------------------------------------------')"
      ],
      "execution_count": 13,
      "outputs": [
        {
          "output_type": "stream",
          "text": [
            "['Kenya' 'Rwanda' 'Tanzania' 'Uganda']\n",
            "---------------------------------------------------------------------\n",
            "['uniqueid_1' 'uniqueid_2' 'uniqueid_3' ... 'uniqueid_6403'\n",
            " 'uniqueid_6450' 'uniqueid_6515']\n",
            "---------------------------------------------------------------------\n",
            "['Yes' 'No']\n",
            "---------------------------------------------------------------------\n",
            "['Rural' 'Urban']\n",
            "---------------------------------------------------------------------\n",
            "['Yes' 'No']\n",
            "---------------------------------------------------------------------\n",
            "['Female' 'Male']\n",
            "---------------------------------------------------------------------\n",
            "['Spouse' 'Head of Household' 'Other relative' 'Child' 'Parent'\n",
            " 'Other non-relatives']\n",
            "---------------------------------------------------------------------\n",
            "['Married/Living together' 'Widowed' 'Single/Never Married'\n",
            " 'Divorced/Seperated' 'Dont know']\n",
            "---------------------------------------------------------------------\n",
            "['Secondary education' 'No formal education'\n",
            " 'Vocational/Specialised training' 'Primary education'\n",
            " 'Tertiary education' 'Other/Dont know/RTA']\n",
            "---------------------------------------------------------------------\n",
            "['Self employed' 'Government Dependent' 'Formally employed Private'\n",
            " 'Informally employed' 'Formally employed Government'\n",
            " 'Farming and Fishing' 'Remittance Dependent' 'Other Income'\n",
            " 'Dont Know/Refuse to answer' 'No Income']\n",
            "---------------------------------------------------------------------\n"
          ],
          "name": "stdout"
        }
      ]
    },
    {
      "cell_type": "markdown",
      "metadata": {
        "id": "oyOIl4kFLAth"
      },
      "source": [
        "The categorical data is well inputed. Since its survey data we expected misspelling and other anomalies"
      ]
    },
    {
      "cell_type": "markdown",
      "metadata": {
        "id": "-2DDdJlNKrVc"
      },
      "source": [
        "## **Exploratory Data Analysis**"
      ]
    },
    {
      "cell_type": "code",
      "metadata": {
        "colab": {
          "base_uri": "https://localhost:8080/"
        },
        "id": "wP3LW7tYKx6M",
        "outputId": "d83eaefb-0ff8-4a29-fc20-6b1e2b8c05b9"
      },
      "source": [
        "## have a data statistical description\r\n",
        "for col in train.select_dtypes([np.int64]):\r\n",
        "  print(train[col].describe())"
      ],
      "execution_count": 14,
      "outputs": [
        {
          "output_type": "stream",
          "text": [
            "count    22902.000000\n",
            "mean      2016.966684\n",
            "std          0.844630\n",
            "min       2016.000000\n",
            "25%       2016.000000\n",
            "50%       2017.000000\n",
            "75%       2018.000000\n",
            "max       2018.000000\n",
            "Name: year, dtype: float64\n",
            "count    22902.000000\n",
            "mean         3.689066\n",
            "std          2.025134\n",
            "min          1.000000\n",
            "25%          2.000000\n",
            "50%          3.000000\n",
            "75%          5.000000\n",
            "max          9.000000\n",
            "Name: household_size, dtype: float64\n",
            "count    22902.000000\n",
            "mean        38.348441\n",
            "std         15.804692\n",
            "min         16.000000\n",
            "25%         26.000000\n",
            "50%         35.000000\n",
            "75%         48.000000\n",
            "max         83.000000\n",
            "Name: age_of_respondent, dtype: float64\n"
          ],
          "name": "stdout"
        }
      ]
    },
    {
      "cell_type": "markdown",
      "metadata": {
        "id": "caXgvsy-M8tA"
      },
      "source": [
        "The mean household size is 4 people in house, The household with the highest had 9 members and the least had 1.\r\n",
        "\r\n",
        "The mean age of respondents is 38 years and the youngest person in the survey was 16 years and the eldest was 83."
      ]
    },
    {
      "cell_type": "code",
      "metadata": {
        "colab": {
          "base_uri": "https://localhost:8080/",
          "height": 351
        },
        "id": "XlbQJA2X55pD",
        "outputId": "36943205-e398-4379-8924-23dca3ad9f48"
      },
      "source": [
        "## number of people with bank account per country\r\n",
        "f,axes=plt.subplots(1,2,figsize=(16,5))\r\n",
        "sns.countplot(x='bank_account',hue='country',data=train,palette='magma',ax=axes[0]).set_title('People with bank account per country',fontsize=(13))\r\n",
        "sns.countplot(x='bank_account',data=train,ax=axes[1]).set_title('People with bank account',fontsize=(13))\r\n",
        "plt.show()"
      ],
      "execution_count": 15,
      "outputs": [
        {
          "output_type": "display_data",
          "data": {
            "image/png": "[encoded data removed]",
            "text/plain": [
              "<Figure size 1152x360 with 2 Axes>"
            ]
          },
          "metadata": {
            "tags": [],
            "needs_background": "light"
          }
        }
      ]
    },
    {
      "cell_type": "code",
      "metadata": {
        "colab": {
          "base_uri": "https://localhost:8080/",
          "height": 385
        },
        "id": "kOCMhgjRNP8w",
        "outputId": "1f3a098c-86f7-44ae-98e2-6e8e45adbb7c"
      },
      "source": [
        "####The number of people with bank accounts\r\n",
        "sns.set_style(\"dark\") \r\n",
        "g=sns.FacetGrid(train,col='education_level',height=5,margin_titles=True,aspect=0.6,)\r\n",
        "g.map(sns.countplot,'bank_account',palette='magma')\r\n",
        "g.set_axis_labels(\"if they have a bank account\", \"number of bank accounts\")\r\n"
      ],
      "execution_count": 16,
      "outputs": [
        {
          "output_type": "execute_result",
          "data": {
            "text/plain": [
              "<seaborn.axisgrid.FacetGrid at 0x7ff382406e80>"
            ]
          },
          "metadata": {
            "tags": []
          },
          "execution_count": 16
        },
        {
          "output_type": "display_data",
          "data": {
            "image/png": "[encoded data removed]",
            "text/plain": [
              "<Figure size 1296x360 with 6 Axes>"
            ]
          },
          "metadata": {
            "tags": []
          }
        }
      ]
    },
    {
      "cell_type": "code",
      "metadata": {
        "colab": {
          "base_uri": "https://localhost:8080/",
          "height": 302
        },
        "id": "80aQSUd1V5wB",
        "outputId": "e9238917-444e-4ed0-8399-d0556a6e4e8e"
      },
      "source": [
        "### bank account  by job type\r\n",
        "sns.set_style(\"dark\")\r\n",
        "y=sns.FacetGrid(train,col='job_type',aspect=.55,height=6,row_order=['Yes','No'])\r\n",
        "y.map(sns.countplot,'bank_account',palette=\"Set1\")"
      ],
      "execution_count": 17,
      "outputs": [
        {
          "output_type": "execute_result",
          "data": {
            "text/plain": [
              "<seaborn.axisgrid.FacetGrid at 0x7ff382406390>"
            ]
          },
          "metadata": {
            "tags": []
          },
          "execution_count": 17
        },
        {
          "output_type": "display_data",
          "data": {
            "image/png": "[encoded data removed]",
            "text/plain": [
              "<Figure size 2376x432 with 10 Axes>"
            ]
          },
          "metadata": {
            "tags": []
          }
        }
      ]
    },
    {
      "cell_type": "code",
      "metadata": {
        "colab": {
          "base_uri": "https://localhost:8080/",
          "height": 389
        },
        "id": "IRXCHO9Kgcs9",
        "outputId": "db74eefd-e862-4b74-f1ee-6f23cbe149cd"
      },
      "source": [
        "#Checking the number of people with bank accounts using different aspects eg cellphone access,location type and gender.\r\n",
        "sns.set_style('dark')\r\n",
        "f,axes=plt.subplots(1,3,figsize=(15,6),)\r\n",
        "sns.countplot(x='bank_account',hue='cellphone_access',data=train,palette='magma',ax=axes[0])\r\n",
        "sns.countplot(data=train,ax=axes[1],x='bank_account',hue='location_type',palette='Set2')\r\n",
        "sns.countplot(data=train,x='bank_account',hue='gender_of_respondent',ax=axes[2])\r\n",
        "plt.show()"
      ],
      "execution_count": 18,
      "outputs": [
        {
          "output_type": "display_data",
          "data": {
            "image/png": "[encoded data removed]",
            "text/plain": [
              "<Figure size 1080x432 with 3 Axes>"
            ]
          },
          "metadata": {
            "tags": []
          }
        }
      ]
    },
    {
      "cell_type": "code",
      "metadata": {
        "colab": {
          "base_uri": "https://localhost:8080/",
          "height": 500
        },
        "id": "O_77DNbixs0I",
        "outputId": "312dfd54-5d8a-47fe-a9f5-8a9ae14a134a"
      },
      "source": [
        "## finding correlation \r\n",
        "data_corr=train.copy()\r\n",
        "data_corr.drop('uniqueid',inplace=True,axis=1)\r\n",
        "from sklearn.preprocessing import LabelEncoder\r\n",
        "ll=LabelEncoder()\r\n",
        "data_corr['country']=ll.fit_transform(data_corr['country'])\r\n",
        "data_corr['bank_account']=ll.fit_transform(data_corr['bank_account'])\r\n",
        "data_corr['location_type']=ll.fit_transform(data_corr['location_type'])\r\n",
        "data_corr['cellphone_access']=ll.fit_transform(data_corr['cellphone_access'])\r\n",
        "data_corr['gender_of_respondent']=ll.fit_transform(data_corr['gender_of_respondent'])\r\n",
        "data_corr['relationship_with_head'] = ll.fit_transform(data_corr['relationship_with_head'])\r\n",
        "data_corr['marital_status']=ll.fit_transform(data_corr['marital_status'])\r\n",
        "data_corr['education_level']=ll.fit_transform(data_corr['education_level'])\r\n",
        "#data_corr['job_type']=ll.fit_transform(data_corr['job_type'])\r\n",
        "### correlation\r\n",
        "sns.set_style('dark')\r\n",
        "f,axes=plt.subplots(1,1,figsize=(15,6))\r\n",
        "sns.heatmap(data_corr.corr(),vmin=0,vmax=1,annot=True)"
      ],
      "execution_count": 19,
      "outputs": [
        {
          "output_type": "execute_result",
          "data": {
            "text/plain": [
              "<matplotlib.axes._subplots.AxesSubplot at 0x7ff3787bf8d0>"
            ]
          },
          "metadata": {
            "tags": []
          },
          "execution_count": 19
        },
        {
          "output_type": "display_data",
          "data": {
            "image/png": "[encoded data removed]",
            "text/plain": [
              "<Figure size 1080x432 with 2 Axes>"
            ]
          },
          "metadata": {
            "tags": []
          }
        }
      ]
    },
    {
      "cell_type": "markdown",
      "metadata": {
        "id": "tRRNAm3sKWMb"
      },
      "source": [
        "## **Inferential Statistics**"
      ]
    },
    {
      "cell_type": "markdown",
      "metadata": {
        "id": "RSUJMhL9Ke8i"
      },
      "source": [
        "Conducting statistical test see if bank account is affected by the other features.\r\n",
        "\r\n",
        "Example we have discovered that Education level has a positive correlation to havinga a bank account hence we conduct to test to see if its significant."
      ]
    },
    {
      "cell_type": "code",
      "metadata": {
        "colab": {
          "base_uri": "https://localhost:8080/",
          "height": 142
        },
        "id": "B0HPzJZ2KV0Y",
        "outputId": "946bcdec-ea34-4831-bdc5-f99f82101bdb"
      },
      "source": [
        "### testing if there is a significance difference between education level and having a bank account\r\n",
        "## we use chi square test\r\n",
        "\r\n",
        "\r\n",
        "alpha=0.05\r\n",
        "from scipy.stats import chi2_contingency\r\n",
        "contigency=pd.crosstab(train['bank_account'],train['education_level'])\r\n",
        "contigency"
      ],
      "execution_count": 20,
      "outputs": [
        {
          "output_type": "execute_result",
          "data": {
            "text/html": [
              "<div>\n",
              "<style scoped>\n",
              "    .dataframe tbody tr th:only-of-type {\n",
              "        vertical-align: middle;\n",
              "    }\n",
              "\n",
              "    .dataframe tbody tr th {\n",
              "        vertical-align: top;\n",
              "    }\n",
              "\n",
              "    .dataframe thead th {\n",
              "        text-align: right;\n",
              "    }\n",
              "</style>\n",
              "<table border=\"1\" class=\"dataframe\">\n",
              "  <thead>\n",
              "    <tr style=\"text-align: right;\">\n",
              "      <th>education_level</th>\n",
              "      <th>No formal education</th>\n",
              "      <th>Other/Dont know/RTA</th>\n",
              "      <th>Primary education</th>\n",
              "      <th>Secondary education</th>\n",
              "      <th>Tertiary education</th>\n",
              "      <th>Vocational/Specialised training</th>\n",
              "    </tr>\n",
              "    <tr>\n",
              "      <th>bank_account</th>\n",
              "      <th></th>\n",
              "      <th></th>\n",
              "      <th></th>\n",
              "      <th></th>\n",
              "      <th></th>\n",
              "      <th></th>\n",
              "    </tr>\n",
              "  </thead>\n",
              "  <tbody>\n",
              "    <tr>\n",
              "      <th>No</th>\n",
              "      <td>4119</td>\n",
              "      <td>20</td>\n",
              "      <td>11468</td>\n",
              "      <td>3147</td>\n",
              "      <td>562</td>\n",
              "      <td>335</td>\n",
              "    </tr>\n",
              "    <tr>\n",
              "      <th>Yes</th>\n",
              "      <td>161</td>\n",
              "      <td>11</td>\n",
              "      <td>1071</td>\n",
              "      <td>970</td>\n",
              "      <td>586</td>\n",
              "      <td>452</td>\n",
              "    </tr>\n",
              "  </tbody>\n",
              "</table>\n",
              "</div>"
            ],
            "text/plain": [
              "education_level  No formal education  ...  Vocational/Specialised training\n",
              "bank_account                          ...                                 \n",
              "No                              4119  ...                              335\n",
              "Yes                              161  ...                              452\n",
              "\n",
              "[2 rows x 6 columns]"
            ]
          },
          "metadata": {
            "tags": []
          },
          "execution_count": 20
        }
      ]
    },
    {
      "cell_type": "markdown",
      "metadata": {
        "id": "oaA2K089GVW1"
      },
      "source": [
        "Is the p-value less than .05, we can conclude that the variables are not independent of each other and that there is a statistical relationship between the categorical variables.\r\n",
        "\r\n",
        "A chi-square test for independence compares two variables in a contingency table to see if they are related. In a more general sense, it tests to see whether distributions of categorical variables differ from each another.\r\n",
        " \r\n",
        " A very small chi square test statistic means that your observed data fits your expected data extremely well. In other words, there is a relationship.\r\n",
        "\r\n",
        "\r\n",
        "A very large chi square test statistic means that the data does not fit very well. In other words, there isn’t a relationship."
      ]
    },
    {
      "cell_type": "code",
      "metadata": {
        "colab": {
          "base_uri": "https://localhost:8080/"
        },
        "id": "V_tRuG4HO8-u",
        "outputId": "f7b371be-9f84-44a5-cf95-3b8b8952a62b"
      },
      "source": [
        "## the chi square test\r\n",
        "\r\n",
        "# H0 : There is no relationship between the variables\r\n",
        "# H1 : there is a relationship between the variable\r\n",
        "stats,p,dof,expected=chi2_contingency(contigency)\r\n",
        "print('pvalue: ',p)\r\n",
        "print('stats: ',stats)\r\n",
        "print('degree of freedom: ',dof)\r\n",
        "print('expected value: ',expected)\r\n",
        "\r\n",
        "print('-----------------------------------------------------------------------------------------------------------------------------------------------------')\r\n",
        "\r\n",
        "if p< alpha:\r\n",
        "  print('The variable are not independent of each other')\r\n",
        "  print('There is  a statistical relationship  between education level and having a bank account')\r\n",
        "else:\r\n",
        "  print('independent and there is asignificant difference')"
      ],
      "execution_count": 21,
      "outputs": [
        {
          "output_type": "stream",
          "text": [
            "pvalue:  0.0\n",
            "stats:  3507.4383934775387\n",
            "degree of freedom:  5\n",
            "expected value:  [[3.67244258e+03 2.65994673e+01 1.07590555e+04 3.53258087e+03\n",
            "  9.85038337e+02 6.75283250e+02]\n",
            " [6.07557419e+02 4.40053270e+00 1.77994450e+03 5.84419134e+02\n",
            "  1.62961663e+02 1.11716750e+02]]\n",
            "-----------------------------------------------------------------------------------------------------------------------------------------------------\n",
            "The variable are not independent of each other\n",
            "There is  a statistical relationship  between education level and having a bank account\n"
          ],
          "name": "stdout"
        }
      ]
    },
    {
      "cell_type": "markdown",
      "metadata": {
        "id": "J29fzHaIHypI"
      },
      "source": [
        "Small p-values (under 5%) usually indicate that a difference is significant (or “small enough”)."
      ]
    },
    {
      "cell_type": "code",
      "metadata": {
        "colab": {
          "base_uri": "https://localhost:8080/",
          "height": 142
        },
        "id": "XmJB6S397m36",
        "outputId": "5c28d79c-9044-44ce-be2a-1a30224517af"
      },
      "source": [
        "### statistical test to see if there is a significance difference between having a bank and having a cellphone\r\n",
        "cellphone=pd.crosstab(train['bank_account'],train['cellphone_access'])\r\n",
        "cellphone"
      ],
      "execution_count": 22,
      "outputs": [
        {
          "output_type": "execute_result",
          "data": {
            "text/html": [
              "<div>\n",
              "<style scoped>\n",
              "    .dataframe tbody tr th:only-of-type {\n",
              "        vertical-align: middle;\n",
              "    }\n",
              "\n",
              "    .dataframe tbody tr th {\n",
              "        vertical-align: top;\n",
              "    }\n",
              "\n",
              "    .dataframe thead th {\n",
              "        text-align: right;\n",
              "    }\n",
              "</style>\n",
              "<table border=\"1\" class=\"dataframe\">\n",
              "  <thead>\n",
              "    <tr style=\"text-align: right;\">\n",
              "      <th>cellphone_access</th>\n",
              "      <th>No</th>\n",
              "      <th>Yes</th>\n",
              "    </tr>\n",
              "    <tr>\n",
              "      <th>bank_account</th>\n",
              "      <th></th>\n",
              "      <th></th>\n",
              "    </tr>\n",
              "  </thead>\n",
              "  <tbody>\n",
              "    <tr>\n",
              "      <th>No</th>\n",
              "      <td>5703</td>\n",
              "      <td>13948</td>\n",
              "    </tr>\n",
              "    <tr>\n",
              "      <th>Yes</th>\n",
              "      <td>93</td>\n",
              "      <td>3158</td>\n",
              "    </tr>\n",
              "  </tbody>\n",
              "</table>\n",
              "</div>"
            ],
            "text/plain": [
              "cellphone_access    No    Yes\n",
              "bank_account                 \n",
              "No                5703  13948\n",
              "Yes                 93   3158"
            ]
          },
          "metadata": {
            "tags": []
          },
          "execution_count": 22
        }
      ]
    },
    {
      "cell_type": "code",
      "metadata": {
        "colab": {
          "base_uri": "https://localhost:8080/"
        },
        "id": "Y1lMCrcO952H",
        "outputId": "e41bc223-bca4-4e7d-e7d4-99fa83ba0ad2"
      },
      "source": [
        " stats,p,ddof,expected=chi2_contingency(cellphone)\r\n",
        " print('stats: ',stats)\r\n",
        " print('pvalue: ',p)\r\n",
        " print('degree of freedom: ',ddof)\r\n",
        " print('expected value: ',expected)\r\n",
        "\r\n",
        " print('--------------------------------------------------------------------------------------------------------')\r\n",
        "if p<=alpha:\r\n",
        "  print('There is a statistical relationship between the two variables')\r\n",
        "else:\r\n",
        "  print('no significant relationship')\r\n"
      ],
      "execution_count": 23,
      "outputs": [
        {
          "output_type": "stream",
          "text": [
            "stats:  1008.5647011692663\n",
            "pvalue:  2.4695422178718705e-221\n",
            "degree of freedom:  1\n",
            "expected value:  [[ 4973.24233691 14677.75766309]\n",
            " [  822.75766309  2428.24233691]]\n",
            "--------------------------------------------------------------------------------------------------------\n",
            "There is a statistical relationship between the two variables\n"
          ],
          "name": "stdout"
        }
      ]
    },
    {
      "cell_type": "markdown",
      "metadata": {
        "id": "Bo3_rjqT5HBO"
      },
      "source": [
        "## **Feature  Engineering**"
      ]
    },
    {
      "cell_type": "code",
      "metadata": {
        "id": "iCNae99q7nfm"
      },
      "source": [
        "### encoding data into numerical\r\n",
        "from sklearn.preprocessing import LabelEncoder\r\n",
        "le=LabelEncoder()\r\n",
        "train['country']=ll.fit_transform(train['country'])\r\n",
        "train['bank_account']=ll.fit_transform(train['bank_account'])\r\n",
        "train['location_type']=ll.fit_transform(train['location_type'])\r\n",
        "train['cellphone_access']=ll.fit_transform(train['cellphone_access'])\r\n",
        "train['gender_of_respondent']=ll.fit_transform(train['gender_of_respondent'])\r\n",
        "train['relationship_with_head'] = ll.fit_transform(train['relationship_with_head'])\r\n",
        "train['marital_status']=ll.fit_transform(train['marital_status'])\r\n",
        "train['education_level']=ll.fit_transform(train['education_level'])\r\n",
        "train['job_type']=ll.fit_transform(train['job_type'])"
      ],
      "execution_count": 24,
      "outputs": []
    },
    {
      "cell_type": "code",
      "metadata": {
        "colab": {
          "base_uri": "https://localhost:8080/",
          "height": 439
        },
        "id": "vs55dKyyjXDv",
        "outputId": "f61cb4bf-d07b-454f-d0fb-39e138f9cb13"
      },
      "source": [
        "#### dropping highly correlated \r\n",
        "## corrlation matrix\r\n",
        "corr_matrix=train.corr().abs()\r\n",
        "# Select upper triangle of correlation matrix\r\n",
        "upper = corr_matrix.where(np.triu(np.ones(corr_matrix.shape), k=1).astype(np.bool))\r\n",
        "# Find index of feature columns with correlation greater than 0.95\r\n",
        "to_drop = [column for column in upper.columns if any(upper[column] > 0.95)]\r\n",
        "# Drop features \r\n",
        "train.drop(train[to_drop], axis=1)"
      ],
      "execution_count": 25,
      "outputs": [
        {
          "output_type": "execute_result",
          "data": {
            "text/html": [
              "<div>\n",
              "<style scoped>\n",
              "    .dataframe tbody tr th:only-of-type {\n",
              "        vertical-align: middle;\n",
              "    }\n",
              "\n",
              "    .dataframe tbody tr th {\n",
              "        vertical-align: top;\n",
              "    }\n",
              "\n",
              "    .dataframe thead th {\n",
              "        text-align: right;\n",
              "    }\n",
              "</style>\n",
              "<table border=\"1\" class=\"dataframe\">\n",
              "  <thead>\n",
              "    <tr style=\"text-align: right;\">\n",
              "      <th></th>\n",
              "      <th>country</th>\n",
              "      <th>year</th>\n",
              "      <th>uniqueid</th>\n",
              "      <th>bank_account</th>\n",
              "      <th>location_type</th>\n",
              "      <th>cellphone_access</th>\n",
              "      <th>household_size</th>\n",
              "      <th>age_of_respondent</th>\n",
              "      <th>gender_of_respondent</th>\n",
              "      <th>relationship_with_head</th>\n",
              "      <th>marital_status</th>\n",
              "      <th>education_level</th>\n",
              "      <th>job_type</th>\n",
              "    </tr>\n",
              "  </thead>\n",
              "  <tbody>\n",
              "    <tr>\n",
              "      <th>0</th>\n",
              "      <td>0</td>\n",
              "      <td>2018</td>\n",
              "      <td>uniqueid_1</td>\n",
              "      <td>1</td>\n",
              "      <td>0</td>\n",
              "      <td>1</td>\n",
              "      <td>3</td>\n",
              "      <td>24</td>\n",
              "      <td>0</td>\n",
              "      <td>5</td>\n",
              "      <td>2</td>\n",
              "      <td>3</td>\n",
              "      <td>9</td>\n",
              "    </tr>\n",
              "    <tr>\n",
              "      <th>1</th>\n",
              "      <td>0</td>\n",
              "      <td>2018</td>\n",
              "      <td>uniqueid_2</td>\n",
              "      <td>0</td>\n",
              "      <td>0</td>\n",
              "      <td>0</td>\n",
              "      <td>5</td>\n",
              "      <td>70</td>\n",
              "      <td>0</td>\n",
              "      <td>1</td>\n",
              "      <td>4</td>\n",
              "      <td>0</td>\n",
              "      <td>4</td>\n",
              "    </tr>\n",
              "    <tr>\n",
              "      <th>2</th>\n",
              "      <td>0</td>\n",
              "      <td>2018</td>\n",
              "      <td>uniqueid_3</td>\n",
              "      <td>1</td>\n",
              "      <td>1</td>\n",
              "      <td>1</td>\n",
              "      <td>5</td>\n",
              "      <td>26</td>\n",
              "      <td>1</td>\n",
              "      <td>3</td>\n",
              "      <td>3</td>\n",
              "      <td>5</td>\n",
              "      <td>9</td>\n",
              "    </tr>\n",
              "    <tr>\n",
              "      <th>3</th>\n",
              "      <td>0</td>\n",
              "      <td>2018</td>\n",
              "      <td>uniqueid_4</td>\n",
              "      <td>0</td>\n",
              "      <td>0</td>\n",
              "      <td>1</td>\n",
              "      <td>5</td>\n",
              "      <td>34</td>\n",
              "      <td>0</td>\n",
              "      <td>1</td>\n",
              "      <td>2</td>\n",
              "      <td>2</td>\n",
              "      <td>3</td>\n",
              "    </tr>\n",
              "    <tr>\n",
              "      <th>4</th>\n",
              "      <td>0</td>\n",
              "      <td>2018</td>\n",
              "      <td>uniqueid_5</td>\n",
              "      <td>0</td>\n",
              "      <td>1</td>\n",
              "      <td>0</td>\n",
              "      <td>8</td>\n",
              "      <td>26</td>\n",
              "      <td>1</td>\n",
              "      <td>0</td>\n",
              "      <td>3</td>\n",
              "      <td>2</td>\n",
              "      <td>5</td>\n",
              "    </tr>\n",
              "    <tr>\n",
              "      <th>...</th>\n",
              "      <td>...</td>\n",
              "      <td>...</td>\n",
              "      <td>...</td>\n",
              "      <td>...</td>\n",
              "      <td>...</td>\n",
              "      <td>...</td>\n",
              "      <td>...</td>\n",
              "      <td>...</td>\n",
              "      <td>...</td>\n",
              "      <td>...</td>\n",
              "      <td>...</td>\n",
              "      <td>...</td>\n",
              "      <td>...</td>\n",
              "    </tr>\n",
              "    <tr>\n",
              "      <th>23518</th>\n",
              "      <td>3</td>\n",
              "      <td>2018</td>\n",
              "      <td>uniqueid_2111</td>\n",
              "      <td>0</td>\n",
              "      <td>0</td>\n",
              "      <td>1</td>\n",
              "      <td>9</td>\n",
              "      <td>20</td>\n",
              "      <td>0</td>\n",
              "      <td>0</td>\n",
              "      <td>3</td>\n",
              "      <td>2</td>\n",
              "      <td>6</td>\n",
              "    </tr>\n",
              "    <tr>\n",
              "      <th>23519</th>\n",
              "      <td>3</td>\n",
              "      <td>2018</td>\n",
              "      <td>uniqueid_2113</td>\n",
              "      <td>0</td>\n",
              "      <td>0</td>\n",
              "      <td>1</td>\n",
              "      <td>4</td>\n",
              "      <td>48</td>\n",
              "      <td>0</td>\n",
              "      <td>1</td>\n",
              "      <td>0</td>\n",
              "      <td>0</td>\n",
              "      <td>7</td>\n",
              "    </tr>\n",
              "    <tr>\n",
              "      <th>23520</th>\n",
              "      <td>3</td>\n",
              "      <td>2018</td>\n",
              "      <td>uniqueid_2114</td>\n",
              "      <td>0</td>\n",
              "      <td>0</td>\n",
              "      <td>1</td>\n",
              "      <td>2</td>\n",
              "      <td>27</td>\n",
              "      <td>0</td>\n",
              "      <td>1</td>\n",
              "      <td>3</td>\n",
              "      <td>3</td>\n",
              "      <td>7</td>\n",
              "    </tr>\n",
              "    <tr>\n",
              "      <th>23521</th>\n",
              "      <td>3</td>\n",
              "      <td>2018</td>\n",
              "      <td>uniqueid_2115</td>\n",
              "      <td>0</td>\n",
              "      <td>0</td>\n",
              "      <td>1</td>\n",
              "      <td>5</td>\n",
              "      <td>27</td>\n",
              "      <td>0</td>\n",
              "      <td>4</td>\n",
              "      <td>4</td>\n",
              "      <td>2</td>\n",
              "      <td>7</td>\n",
              "    </tr>\n",
              "    <tr>\n",
              "      <th>23522</th>\n",
              "      <td>3</td>\n",
              "      <td>2018</td>\n",
              "      <td>uniqueid_2116</td>\n",
              "      <td>0</td>\n",
              "      <td>1</td>\n",
              "      <td>1</td>\n",
              "      <td>7</td>\n",
              "      <td>30</td>\n",
              "      <td>0</td>\n",
              "      <td>4</td>\n",
              "      <td>0</td>\n",
              "      <td>3</td>\n",
              "      <td>9</td>\n",
              "    </tr>\n",
              "  </tbody>\n",
              "</table>\n",
              "<p>22902 rows × 13 columns</p>\n",
              "</div>"
            ],
            "text/plain": [
              "       country  year       uniqueid  ...  marital_status  education_level  job_type\n",
              "0            0  2018     uniqueid_1  ...               2                3         9\n",
              "1            0  2018     uniqueid_2  ...               4                0         4\n",
              "2            0  2018     uniqueid_3  ...               3                5         9\n",
              "3            0  2018     uniqueid_4  ...               2                2         3\n",
              "4            0  2018     uniqueid_5  ...               3                2         5\n",
              "...        ...   ...            ...  ...             ...              ...       ...\n",
              "23518        3  2018  uniqueid_2111  ...               3                2         6\n",
              "23519        3  2018  uniqueid_2113  ...               0                0         7\n",
              "23520        3  2018  uniqueid_2114  ...               3                3         7\n",
              "23521        3  2018  uniqueid_2115  ...               4                2         7\n",
              "23522        3  2018  uniqueid_2116  ...               0                3         9\n",
              "\n",
              "[22902 rows x 13 columns]"
            ]
          },
          "metadata": {
            "tags": []
          },
          "execution_count": 25
        }
      ]
    },
    {
      "cell_type": "code",
      "metadata": {
        "colab": {
          "base_uri": "https://localhost:8080/"
        },
        "id": "MrM2MOt25Qbt",
        "outputId": "b9a7cb89-0c7d-41f6-b3d8-a2a60fa65da3"
      },
      "source": [
        "## splitting the data into x and y\r\n",
        "x=train.drop(['uniqueid','bank_account'],axis=1)\r\n",
        "y=train['bank_account']\r\n",
        "x.shape\r\n",
        "y.shape"
      ],
      "execution_count": 26,
      "outputs": [
        {
          "output_type": "execute_result",
          "data": {
            "text/plain": [
              "(22902,)"
            ]
          },
          "metadata": {
            "tags": []
          },
          "execution_count": 26
        }
      ]
    },
    {
      "cell_type": "code",
      "metadata": {
        "colab": {
          "base_uri": "https://localhost:8080/"
        },
        "id": "jfLY7yRk5hNs",
        "outputId": "1d70eb2e-c56c-4a48-a086-9ebb200045d9"
      },
      "source": [
        "### test,train split\r\n",
        "from sklearn.model_selection import train_test_split\r\n",
        "x_train,x_test,y_train,y_test=train_test_split(x,y,test_size=0.65,random_state=234)\r\n",
        "x_train.shape\r\n",
        "y_train.shape"
      ],
      "execution_count": 27,
      "outputs": [
        {
          "output_type": "execute_result",
          "data": {
            "text/plain": [
              "(8015,)"
            ]
          },
          "metadata": {
            "tags": []
          },
          "execution_count": 27
        }
      ]
    },
    {
      "cell_type": "code",
      "metadata": {
        "id": "zUQbqm_z7auS"
      },
      "source": [
        "## normalization of data\r\n",
        "from sklearn.preprocessing import StandardScaler\r\n",
        "ss=StandardScaler()\r\n",
        "x_train=ss.fit_transform(x_train)\r\n",
        "x_test=ss.fit_transform(x_test)"
      ],
      "execution_count": 28,
      "outputs": []
    },
    {
      "cell_type": "markdown",
      "metadata": {
        "id": "IQh7ZqolhesB"
      },
      "source": [
        "## **Modelling**"
      ]
    },
    {
      "cell_type": "code",
      "metadata": {
        "colab": {
          "base_uri": "https://localhost:8080/"
        },
        "id": "HZfGx22C4Ppa",
        "outputId": "38d01c70-391c-41b3-e377-3e3aafb94aff"
      },
      "source": [
        "#hyperparameter tuning\r\n",
        "param_grid={'n_estimators':[100,200,300,1000],\r\n",
        "             'max_features':[2,3,4],\r\n",
        "             'max_depth':[70,80,90,100],\r\n",
        "             'min_samples_leaf':[3,4,5],\r\n",
        "             'min_samples_split':[8,10,12],\r\n",
        "             'bootstrap':[True]}\r\n",
        "rf=RandomForestClassifier()\r\n",
        "grid1=GridSearchCV(estimator=rf,param_grid=param_grid,cv=4,n_jobs=-1,verbose=2)\r\n",
        "### fitting the grid\r\n",
        "grid1.fit(x_train,y_train)\r\n",
        "grid1.best_params_ \r\n",
        "grid1.best_estimators_"
      ],
      "execution_count": null,
      "outputs": [
        {
          "output_type": "stream",
          "text": [
            "Fitting 4 folds for each of 432 candidates, totalling 1728 fits\n"
          ],
          "name": "stdout"
        },
        {
          "output_type": "stream",
          "text": [
            "[Parallel(n_jobs=-1)]: Using backend LokyBackend with 2 concurrent workers.\n",
            "[Parallel(n_jobs=-1)]: Done  37 tasks      | elapsed:   44.0s\n",
            "[Parallel(n_jobs=-1)]: Done 158 tasks      | elapsed:  3.3min\n",
            "[Parallel(n_jobs=-1)]: Done 361 tasks      | elapsed:  8.3min\n",
            "[Parallel(n_jobs=-1)]: Done 644 tasks      | elapsed: 14.8min\n",
            "[Parallel(n_jobs=-1)]: Done 1009 tasks      | elapsed: 23.5min\n",
            "[Parallel(n_jobs=-1)]: Done 1454 tasks      | elapsed: 34.0min\n",
            "[Parallel(n_jobs=-1)]: Done 1728 out of 1728 | elapsed: 41.0min finished\n"
          ],
          "name": "stderr"
        },
        {
          "output_type": "execute_result",
          "data": {
            "text/plain": [
              "{'bootstrap': True,\n",
              " 'max_depth': 100,\n",
              " 'max_features': 2,\n",
              " 'min_samples_leaf': 5,\n",
              " 'min_samples_split': 12,\n",
              " 'n_estimators': 200}"
            ]
          },
          "metadata": {
            "tags": []
          },
          "execution_count": 71
        }
      ]
    },
    {
      "cell_type": "code",
      "metadata": {
        "colab": {
          "base_uri": "https://localhost:8080/"
        },
        "id": "Ti7snjnXh8wN",
        "outputId": "ec208ea3-b287-4cd2-8a29-072576cdc459"
      },
      "source": [
        "## modelling  Random forest\r\n",
        "from sklearn.ensemble import RandomForestClassifier\r\n",
        "from sklearn.model_selection import GridSearchCV\r\n",
        "forest=RandomForestClassifier(bootstrap=True,max_depth=100,max_features=2,min_samples_leaf=5,min_samples_split=12,n_estimators=200)\r\n",
        "model1=forest.fit(x_train,y_train)\r\n",
        "y_pred1=model1.predict(x_test)\r\n",
        "from sklearn.metrics import accuracy_score, precision_score,f1_score\r\n",
        "print('accuracy: ', accuracy_score(y_test,y_pred1)*100)\r\n",
        "print('precision score: ',precision_score(y_test,y_pred1)*100)\r\n",
        "print('f1 score: ',f1_score(y_test,y_pred1)*100 )"
      ],
      "execution_count": 29,
      "outputs": [
        {
          "output_type": "stream",
          "text": [
            "accuracy:  88.31866729361188\n",
            "precision score:  72.81672816728168\n",
            "f1 score:  40.506329113924046\n"
          ],
          "name": "stdout"
        }
      ]
    }
  ]
}